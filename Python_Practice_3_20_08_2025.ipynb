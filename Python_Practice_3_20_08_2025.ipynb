{
  "nbformat": 4,
  "nbformat_minor": 0,
  "metadata": {
    "colab": {
      "provenance": [],
      "authorship_tag": "ABX9TyMWAuMDceUfZP3WpmZ+uPxa",
      "include_colab_link": true
    },
    "kernelspec": {
      "name": "python3",
      "display_name": "Python 3"
    },
    "language_info": {
      "name": "python"
    }
  },
  "cells": [
    {
      "cell_type": "markdown",
      "metadata": {
        "id": "view-in-github",
        "colab_type": "text"
      },
      "source": [
        "<a href=\"https://colab.research.google.com/github/Windbladejg7/Notebooks/blob/main/Python_Practice_3_20_08_2025.ipynb\" target=\"_parent\"><img src=\"https://colab.research.google.com/assets/colab-badge.svg\" alt=\"Open In Colab\"/></a>"
      ]
    },
    {
      "cell_type": "code",
      "execution_count": 67,
      "metadata": {
        "colab": {
          "base_uri": "https://localhost:8080/",
          "height": 466
        },
        "id": "aVxdKOZRaRLy",
        "outputId": "302b3110-6fd6-4a81-e556-7aa2e2962c7f"
      },
      "outputs": [
        {
          "output_type": "stream",
          "name": "stdout",
          "text": [
            "(1035, 6)\n",
            "(498, 6)\n"
          ]
        },
        {
          "output_type": "execute_result",
          "data": {
            "text/plain": [
              "method\n",
              "Astrometry                         2\n",
              "Eclipse Timing Variations          9\n",
              "Imaging                           38\n",
              "Microlensing                      23\n",
              "Orbital Brightness Modulation      3\n",
              "Pulsar Timing                      5\n",
              "Pulsation Timing Variations        1\n",
              "Radial Velocity                  553\n",
              "Transit                          397\n",
              "Transit Timing Variations          4\n",
              "Name: number, dtype: int64"
            ],
            "text/html": [
              "<div>\n",
              "<style scoped>\n",
              "    .dataframe tbody tr th:only-of-type {\n",
              "        vertical-align: middle;\n",
              "    }\n",
              "\n",
              "    .dataframe tbody tr th {\n",
              "        vertical-align: top;\n",
              "    }\n",
              "\n",
              "    .dataframe thead th {\n",
              "        text-align: right;\n",
              "    }\n",
              "</style>\n",
              "<table border=\"1\" class=\"dataframe\">\n",
              "  <thead>\n",
              "    <tr style=\"text-align: right;\">\n",
              "      <th></th>\n",
              "      <th>number</th>\n",
              "    </tr>\n",
              "    <tr>\n",
              "      <th>method</th>\n",
              "      <th></th>\n",
              "    </tr>\n",
              "  </thead>\n",
              "  <tbody>\n",
              "    <tr>\n",
              "      <th>Astrometry</th>\n",
              "      <td>2</td>\n",
              "    </tr>\n",
              "    <tr>\n",
              "      <th>Eclipse Timing Variations</th>\n",
              "      <td>9</td>\n",
              "    </tr>\n",
              "    <tr>\n",
              "      <th>Imaging</th>\n",
              "      <td>38</td>\n",
              "    </tr>\n",
              "    <tr>\n",
              "      <th>Microlensing</th>\n",
              "      <td>23</td>\n",
              "    </tr>\n",
              "    <tr>\n",
              "      <th>Orbital Brightness Modulation</th>\n",
              "      <td>3</td>\n",
              "    </tr>\n",
              "    <tr>\n",
              "      <th>Pulsar Timing</th>\n",
              "      <td>5</td>\n",
              "    </tr>\n",
              "    <tr>\n",
              "      <th>Pulsation Timing Variations</th>\n",
              "      <td>1</td>\n",
              "    </tr>\n",
              "    <tr>\n",
              "      <th>Radial Velocity</th>\n",
              "      <td>553</td>\n",
              "    </tr>\n",
              "    <tr>\n",
              "      <th>Transit</th>\n",
              "      <td>397</td>\n",
              "    </tr>\n",
              "    <tr>\n",
              "      <th>Transit Timing Variations</th>\n",
              "      <td>4</td>\n",
              "    </tr>\n",
              "  </tbody>\n",
              "</table>\n",
              "</div><br><label><b>dtype:</b> int64</label>"
            ]
          },
          "metadata": {},
          "execution_count": 67
        }
      ],
      "source": [
        "import pandas as pd\n",
        "import seaborn as sns\n",
        "import numpy as np\n",
        "\n",
        "planets = sns.load_dataset(\"planets\")\n",
        "\n",
        "df = pd.DataFrame({\"a\": [1, 2, 3], \"b\": [4, 5, 6], \"c\": [7, 8, 9]})\n",
        "serie = pd.Series([10, 20 ,30])\n",
        "nf = df[df%2 == 0]\n",
        "\n",
        "# El valor centinela que usa pandas cuando hay datos faltantes es NaN\n",
        "nf.isnull() # Devuelve una mask (df con entradas booleanas) donde true corresponde con los valores faltantes\n",
        "nf.notnull()\n",
        "nf.fillna(0) # Reemplaza los faltantes\n",
        "nf.isnull().any()\n",
        "\n",
        "\n",
        "print(planets.shape) # Ver la forma del dataframe\n",
        "planets.isnull().any().any() # Me dirá si hay faltantes\n",
        "planets[planets == np.nan].shape\n",
        "planets.head()\n",
        "planets.loc[:, \"mass\"].mean()\n",
        "\n",
        "# El parametro axis aparece en muchos métodos. Dropna, elimina por defecto las filas con valores nulos, por eso vemos que la forma del df es diferente\n",
        "print(planets.dropna().shape)\n",
        "planets.dropna().describe()\n",
        "df.sum(axis = \"columns\")\n",
        "\n",
        "planets.groupby(\"method\").count() # groupby funciona como en SQL\n",
        "planets.groupby(\"method\")[\"number\"].count()"
      ]
    }
  ]
}