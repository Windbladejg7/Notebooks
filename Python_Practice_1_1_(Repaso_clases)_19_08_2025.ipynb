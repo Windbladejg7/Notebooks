{
  "nbformat": 4,
  "nbformat_minor": 0,
  "metadata": {
    "colab": {
      "provenance": [],
      "authorship_tag": "ABX9TyOUPBC1iwz79JvcY0ok67pC",
      "include_colab_link": true
    },
    "kernelspec": {
      "name": "python3",
      "display_name": "Python 3"
    },
    "language_info": {
      "name": "python"
    }
  },
  "cells": [
    {
      "cell_type": "markdown",
      "metadata": {
        "id": "view-in-github",
        "colab_type": "text"
      },
      "source": [
        "<a href=\"https://colab.research.google.com/github/Windbladejg7/Notebooks/blob/main/Python_Practice_1_1_(Repaso_clases)_19_08_2025.ipynb\" target=\"_parent\"><img src=\"https://colab.research.google.com/assets/colab-badge.svg\" alt=\"Open In Colab\"/></a>"
      ]
    },
    {
      "cell_type": "code",
      "execution_count": 10,
      "metadata": {
        "colab": {
          "base_uri": "https://localhost:8080/"
        },
        "id": "5pAUnMdQYbJ9",
        "outputId": "cb64b85d-850b-4095-fac1-ef64f177b638"
      },
      "outputs": [
        {
          "output_type": "stream",
          "name": "stdout",
          "text": [
            "4\n",
            "Hola Mundo\n",
            "Hola Mundo\n"
          ]
        },
        {
          "output_type": "execute_result",
          "data": {
            "text/plain": [
              "['__class__',\n",
              " '__delattr__',\n",
              " '__dict__',\n",
              " '__dir__',\n",
              " '__doc__',\n",
              " '__eq__',\n",
              " '__format__',\n",
              " '__ge__',\n",
              " '__getattribute__',\n",
              " '__getstate__',\n",
              " '__gt__',\n",
              " '__hash__',\n",
              " '__init__',\n",
              " '__init_subclass__',\n",
              " '__le__',\n",
              " '__lt__',\n",
              " '__module__',\n",
              " '__ne__',\n",
              " '__new__',\n",
              " '__reduce__',\n",
              " '__reduce_ex__',\n",
              " '__repr__',\n",
              " '__setattr__',\n",
              " '__sizeof__',\n",
              " '__str__',\n",
              " '__subclasshook__',\n",
              " '__weakref__',\n",
              " 'imprimir',\n",
              " 'x']"
            ]
          },
          "metadata": {},
          "execution_count": 10
        }
      ],
      "source": [
        "class MiClase:\n",
        "  def __init__(self, x):\n",
        "    self.__x = x # Name Mangling: Pseudoprivate attributes\n",
        "\n",
        "  @property\n",
        "  def x(self):\n",
        "    return self.__x\n",
        "\n",
        "  def imprimir(self, cadena):\n",
        "    print(cadena)\n",
        "\n",
        "obj = MiClase(4)\n",
        "#print(obj.x) # Dará error si omitimos el getter (decorador property)\n",
        "print(obj.x)\n",
        "\n",
        "obj.imprimir(\"Hola Mundo\") # Bounded method, equivalente a la siguiente linea\n",
        "MiClase.imprimir(obj, \"Hola Mundo\") # Unbounded Method\n",
        "\n",
        "#Las clases al igual que los módulos son namespaces, de modo que los métodos son funciones definidas en ese scope y que reciben self. Es por esa razón que podemos\n",
        "#accederlas mediante la clase. ¿Mantienen un diccionario?\n",
        "\n",
        "def funcionAbstracta():\n",
        "  pass\n"
      ]
    }
  ]
}