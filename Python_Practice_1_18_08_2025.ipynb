{
  "nbformat": 4,
  "nbformat_minor": 0,
  "metadata": {
    "colab": {
      "provenance": [],
      "authorship_tag": "ABX9TyOq4dQh4XtdEr0sIWjQ2bZX",
      "include_colab_link": true
    },
    "kernelspec": {
      "name": "python3",
      "display_name": "Python 3"
    },
    "language_info": {
      "name": "python"
    }
  },
  "cells": [
    {
      "cell_type": "markdown",
      "metadata": {
        "id": "view-in-github",
        "colab_type": "text"
      },
      "source": [
        "<a href=\"https://colab.research.google.com/github/Windbladejg7/Notebooks/blob/main/Python_Practice_1_18_08_2025.ipynb\" target=\"_parent\"><img src=\"https://colab.research.google.com/assets/colab-badge.svg\" alt=\"Open In Colab\"/></a>"
      ]
    },
    {
      "cell_type": "code",
      "execution_count": 3,
      "metadata": {
        "colab": {
          "base_uri": "https://localhost:8080/"
        },
        "id": "j0mSr-sD-SNc",
        "outputId": "b1c89755-878e-42df-b8ca-2a8a4e1bde63"
      },
      "outputs": [
        {
          "output_type": "stream",
          "name": "stdout",
          "text": [
            "[1 2 3]\n",
            "[3 4 5]\n",
            "[5 4 3 2 1]\n",
            "[ 6  7  8  9 10]\n",
            "[9 2 4 1 6]\n",
            "[]\n"
          ]
        },
        {
          "output_type": "execute_result",
          "data": {
            "text/plain": [
              "array([2, 5])"
            ]
          },
          "metadata": {},
          "execution_count": 3
        }
      ],
      "source": [
        "#Día 1\n",
        "import numpy as np\n",
        "arreglo = np.array([x for x in range(1,6)])\n",
        "\n",
        "arreglo1 = np.arange(1, 5)\n",
        "arreglo1\n",
        "\n",
        "arreglo2 = np.linspace(1, 2, 10) #(inicio, fin, cantidad_de_elementos)\n",
        "arreglo2\n",
        "\n",
        "#np.random.randint()}\n",
        "\n",
        "#Indexing\n",
        "print(arreglo[:3]) #Exclusivo\n",
        "print(arreglo[2:]) #Inclusivo\n",
        "print(arreglo[::-1]) #Imprimer en reversa\n",
        "\n",
        "#Vectorizacion\n",
        "print(arreglo+5) #Broadcasting, operar sobre arreglos de diferentes dimensiones\n",
        "\n",
        "#Ufuncs\n",
        "np.sum(arreglo) #Aggregation function: Se pueden usar con el arreglo directamente\n",
        "aleatorios = np.random.randint(10, size=5)\n",
        "print(aleatorios)\n",
        "np.max(aleatorios)\n",
        "aleatorios.mean()\n",
        "aleatorios.argmin()\n",
        "booleanos = np.array([False, False, False, False])\n",
        "booleanos.any() #Retorna verdadero si hay algún verdadero\n",
        "booleanos.dtype\n",
        "booleanos.shape\n",
        "aleatorios > 3 #Ufunc\n",
        "print(aleatorios[aleatorios == 5]) #Boolean masking\n",
        "arreglo[[1, 4]] #Fancy indexing: Pasar una lista para indexar"
      ]
    }
  ]
}